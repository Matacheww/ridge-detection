{
 "cells": [
  {
   "cell_type": "markdown",
   "id": "e57935db",
   "metadata": {},
   "source": [
    "Webscraper to retrieve images from the input Zooniverse URL\n",
    "\n",
    "Function designed to complete the following steps:\n",
    "- Use Chromedriver to open input URL\n",
    "- Scrape subject image from URL\n",
    "- Save image in local directory"
   ]
  },
  {
   "cell_type": "code",
   "execution_count": 23,
   "id": "fb24e037",
   "metadata": {},
   "outputs": [],
   "source": [
    "from selenium import webdriver\n",
    "from selenium.webdriver.chrome.service import Service\n",
    "from selenium.webdriver.common.by import By\n",
    "import os\n",
    "import requests\n",
    "\n",
    "def download_image(url, save_dir, file_name):\n",
    "    # Check if save_dir exists, if not create it\n",
    "    if not os.path.exists(save_dir):\n",
    "        os.makedirs(save_dir)\n",
    "    \n",
    "    # Specify the path to the web driver executable\n",
    "    driver_path = '/opt/homebrew/bin/chromedriver'\n",
    "    \n",
    "    # Initialize the Chrome web driver\n",
    "    try:\n",
    "        service = Service(driver_path)\n",
    "        options = webdriver.ChromeOptions()\n",
    "        options.add_argument('--headless')  # Run Chrome in headless mode (without opening a window)\n",
    "        driver = webdriver.Chrome(service=service, options=options)\n",
    "        print('Webdriver Prepped...')\n",
    "\n",
    "        # Open the URL in the browser\n",
    "        driver.get(url)\n",
    "        print('Webpage Opened...')\n",
    "        \n",
    "        # Find the image element by XPath\n",
    "        img_element = driver.find_element(By.XPATH,\"//img[contains(@class,'subject pan-active')]\")\n",
    "        \n",
    "        # Get the source URL of the image\n",
    "        img_url = img_element.get_attribute('src')\n",
    "\n",
    "        # Download the image\n",
    "        image_filename = file_name + '.png'\n",
    "        save_path = os.path.join(save_dir, image_filename)\n",
    "        response = requests.get(img_url)\n",
    "        if response.status_code == 200:\n",
    "            with open(save_path, 'wb') as f:\n",
    "                f.write(response.content)\n",
    "            print(\"Image downloaded successfully.\")\n",
    "        else:\n",
    "            print(\"Failed to download image.\")\n",
    "    except Exception as e:\n",
    "            print(f\"An error occurred: {e}\")\n",
    "    finally:\n",
    "        # Ensure the browser always quits\n",
    "         driver.quit()\n"
   ]
  },
  {
   "cell_type": "code",
   "execution_count": 21,
   "id": "53f19192",
   "metadata": {},
   "outputs": [
    {
     "name": "stdout",
     "output_type": "stream",
     "text": [
      "Webdriver Prepped...\n",
      "Webpage Opened...\n",
      "Image downloaded successfully.\n"
     ]
    }
   ],
   "source": [
    "# Example Usage\n",
    "download_image('https://www.zooniverse.org/projects/mschwamb/planet-four-ridges/talk/subjects/44111256','data-dir','example')"
   ]
  }
 ],
 "metadata": {
  "kernelspec": {
   "display_name": "base",
   "language": "python",
   "name": "python3"
  },
  "language_info": {
   "codemirror_mode": {
    "name": "ipython",
    "version": 3
   },
   "file_extension": ".py",
   "mimetype": "text/x-python",
   "name": "python",
   "nbconvert_exporter": "python",
   "pygments_lexer": "ipython3",
   "version": "3.9.7"
  }
 },
 "nbformat": 4,
 "nbformat_minor": 5
}
